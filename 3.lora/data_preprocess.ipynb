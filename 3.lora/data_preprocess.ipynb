{
 "cells": [
  {
   "cell_type": "code",
   "execution_count": 4,
   "id": "c305718f-9c19-404a-9fca-fc0eec2cfc9d",
   "metadata": {
    "scrolled": true
   },
   "outputs": [
    {
     "name": "stdout",
     "output_type": "stream",
     "text": [
      "--2025-01-21 06:07:07--  https://raw.githubusercontent.com/MrBananaHuman/CounselGPT/main/total_kor_multiturn_counsel_bot.jsonl\n",
      "Resolving raw.githubusercontent.com (raw.githubusercontent.com)... 185.199.110.133, 185.199.108.133, 185.199.109.133, ...\n",
      "Connecting to raw.githubusercontent.com (raw.githubusercontent.com)|185.199.110.133|:443... connected.\n",
      "HTTP request sent, awaiting response... 200 OK\n",
      "Length: 30560672 (29M) [application/octet-stream]\n",
      "Saving to: ‘total_kor_multiturn_counsel_bot.jsonl’\n",
      "\n",
      "total_kor_multiturn 100%[===================>]  29.14M  87.2MB/s    in 0.3s    \n",
      "\n",
      "2025-01-21 06:07:07 (87.2 MB/s) - ‘total_kor_multiturn_counsel_bot.jsonl’ saved [30560672/30560672]\n",
      "\n",
      "8731\n"
     ]
    },
    {
     "data": {
      "text/plain": [
       "[{'speaker': '상담사', 'utterance': '안녕하세요. 상담사입니다. 무엇이 불편하시나요?'},\n",
       " {'speaker': '내담자', 'utterance': '내가 약간 중2병 같은 걸 증상을 보이고 있어요.'},\n",
       " {'speaker': '상담사', 'utterance': '중2병 증상이라니, 어떤 증상이신 건가요?'},\n",
       " {'speaker': '내담자',\n",
       "  'utterance': '그러니까 공부하기 싫어하고, 공격적이고, 좀 무례하게 말하고 싶은 게 많아져서 그런 거예요.'},\n",
       " {'speaker': '상담사',\n",
       "  'utterance': '그런 증상이 있으니까 힘드시겠죠. 중2병 같은 것이라고 생각하시는 이유는 무엇인가요?'},\n",
       " {'speaker': '내담자',\n",
       "  'utterance': '막 공부 안하고 이것저것 들먹이고 하고 싶은 게 너무 많아서 그런 거 같아요.'},\n",
       " {'speaker': '상담사',\n",
       "  'utterance': '그런 것도 어쩔 수 없이 찾아오는 시기가 있으니까 무리하지 않도록 해야겠죠. 대학교를 가면서 나아질 것 같았는데, 오히려 더 심해진 것 같다고 하셨죠. 그 원인이 무엇인가요?'},\n",
       " {'speaker': '내담자', 'utterance': '그걸 제가 잘 몰라서 그런 것 같아요. 그냥 더 심해졌다고 느꼈어요.'},\n",
       " {'speaker': '상담사', 'utterance': '대학교 생활이 신나고 재밌으신 건 어떤 점이 있나요?'},\n",
       " {'speaker': '내담자',\n",
       "  'utterance': '학과가 정말 좋아서 즐겁게 수업을 듣고 있어요. 학우들도 좋고 괜찮은 친구들도 많이 만나서 그런 것 같아요.'},\n",
       " {'speaker': '상담사',\n",
       "  'utterance': '즐거운 일도 많이 있으면서 고민거리도 있는 것 같군요. 가사나 소설을 쓰시면서 마음을 풀기도 하신다고 하셨는데, 언제부터 그 습관이 생겨난 건가요?'},\n",
       " {'speaker': '내담자',\n",
       "  'utterance': '좋은 질문이에요. 좀 자세히 말씀드릴게요. 학교에서 어려운 일이 있었는데, 그 때부터 가사나 소설 같은 것들을 쓰면서 마음을 풀게 되었어요. 그리고 이런 걸 쓰면서 나름 살아갈 때도 있는 것 같고, 그러다 보니까 늘어나는 것 같아요.'},\n",
       " {'speaker': '상담사',\n",
       "  'utterance': '어려운 일이 있으셨군요. 그 때부터 쓰시면서 나아지는 기분이 드셨다고 하셨는데, 현재에도 그런 기분이 드시나요?'},\n",
       " {'speaker': '내담자',\n",
       "  'utterance': '좀 그래요. 이제는 어느 정도 극복했다고 생각은 하지만, 가사나 소설을 쓰면서 마음이 편안해지는 느낌이 있어서 써왔어요.'},\n",
       " {'speaker': '상담사',\n",
       "  'utterance': '가사나 소설 같은 것들이 나쁜 것은 아니라고 하셨죠. 하지만, 과도한 습관으로 만들어지면 나중에 문제가 생길 수도 있습니다. 이러한 습관을 줄이고, 보다 효율적으로 자아확인에 도움이 될 수 있도록 일정한 패턴과 기록 방식으로 습관화하는 것이 좋습니다. 예를 들어, 가사나 소설을 쓸 때 일주일에 몇 번, 어느 시간대에 쓰는 것이 효과적인지에 대해 스스로에게 질문해보고, 그에 따른 습관을 만들어보는 것도 좋은 방법입니다.'},\n",
       " {'speaker': '내담자',\n",
       "  'utterance': '그럼, 가사나 소설 같은 것들을 과도하게 하면 나중에 문제가 생긴다는 건가요?'},\n",
       " {'speaker': '상담사',\n",
       "  'utterance': '그렇습니다. 이러한 습관이 과도하게 되면 자신에게 과부하를 주고 심리적인 문제를 일으킬 수 있습니다. 때로는, 삶의 태도를 바꾸는 것도 중요합니다. 스스로를 사랑하고 용서하며 자기자신에게 긍정적인 자아이미지를 가지는 것도 중요합니다. 이러한 자아이미지가 긍정적일수록 스트레스를 받아도 잘 해결할 수 있고, 자기자신을 존중하고 이해하는 능력이 생깁니다.'},\n",
       " {'speaker': '내담자', 'utterance': '그래도 좀 걱정이 되네요.'},\n",
       " {'speaker': '상담사',\n",
       "  'utterance': '걱정은 당연한 것이죠. 그러나 지나치게 걱정하는 것은 오히려 스트레스를 더 받게 됩니다. 지금 이 곳에 오셔서 이야기를 나누어 봤을 때, 내담자님께서 가진 문제가 그렇게 심각한 것은 아닌 것 같습니다. 하지만, 무엇보다도, 내담자님이 존중하고 사랑하는 마음으로 자신을 바라보며, 나름의 방식으로 살아가는 것이 중요합니다. 무언가를 끼워 맞추어 주려 하지 마시고, 스스로 찾아낼 수 있는 길을 찾아보세요.'},\n",
       " {'speaker': '내담자', 'utterance': '그 말씀대로 할게요.'},\n",
       " {'speaker': '상담사',\n",
       "  'utterance': '그렇게 하셔서 조금이나마 좋아지시길 바라겠습니다. 이후에도 힘든 마음이 계속되면 언제든지 저를 찾아주세요.'}]"
      ]
     },
     "execution_count": 4,
     "metadata": {},
     "output_type": "execute_result"
    }
   ],
   "source": [
    "import json \n",
    "from datasets import Dataset, load_dataset\n",
    "\n",
    "!wget https://raw.githubusercontent.com/MrBananaHuman/CounselGPT/main/total_kor_multiturn_counsel_bot.jsonl\n",
    "with open('./total_kor_multiturn_counsel_bot.jsonl', \n",
    "          'r', \n",
    "          encoding='utf-8') as file:\n",
    "    original_jsonl_data = [json.loads(line) for line in file]\n",
    "print(len(original_jsonl_data))\n",
    "original_jsonl_data[0]\n"
   ]
  },
  {
   "cell_type": "code",
   "execution_count": 5,
   "id": "cef2b08a-01ea-42b7-9e3c-e846bb5b1529",
   "metadata": {},
   "outputs": [
    {
     "data": {
      "application/vnd.jupyter.widget-view+json": {
       "model_id": "37462633286b486584f397f62d41af44",
       "version_major": 2,
       "version_minor": 0
      },
      "text/plain": [
       "Generating train split: 0 examples [00:00, ? examples/s]"
      ]
     },
     "metadata": {},
     "output_type": "display_data"
    },
    {
     "data": {
      "text/plain": [
       "DatasetDict({\n",
       "    train: Dataset({\n",
       "        features: ['messages'],\n",
       "        num_rows: 8731\n",
       "    })\n",
       "})"
      ]
     },
     "execution_count": 5,
     "metadata": {},
     "output_type": "execute_result"
    }
   ],
   "source": [
    "speaker_dict = {'내담자': 'user', '상담사': 'assistant'}\n",
    "\n",
    "def preprocess_conversation(messages):\n",
    "    # speaker를 role로 변환\n",
    "    converted_messages = [{'role': speaker_dict[m['speaker']], 'content': m['utterance']} for m in messages]\n",
    "    \n",
    "    # assistant로 시작하는 경우 첫 메시지 제거\n",
    "    if converted_messages and converted_messages[0]['role'] == 'assistant':\n",
    "        converted_messages = converted_messages[1:]\n",
    "    \n",
    "    # user로 끝나는 경우 마지막 메시지들 제거\n",
    "    while converted_messages and converted_messages[-1]['role'] == 'user':\n",
    "        converted_messages = converted_messages[:-1]\n",
    "    \n",
    "    # 연속된 동일 역할의 메시지 병합\n",
    "    converted_messages = merge_consecutive_messages(converted_messages)\n",
    "    \n",
    "    # 대화가 비어있거나 홀수 개의 메시지만 남은 경우 처리\n",
    "    if not converted_messages or len(converted_messages) % 2 != 0:\n",
    "        return []\n",
    "    \n",
    "    return converted_messages\n",
    "\n",
    "def merge_consecutive_messages(messages):\n",
    "    if not messages:\n",
    "        return []\n",
    "    \n",
    "    merged = []\n",
    "    current_role = messages[0]['role']\n",
    "    current_content = messages[0]['content']\n",
    "    \n",
    "    for message in messages[1:]:\n",
    "        if message['role'] == current_role:\n",
    "            current_content += \" \" + message['content']\n",
    "        else:\n",
    "            merged.append({'role': current_role, 'content': current_content})\n",
    "            current_role = message['role']\n",
    "            current_content = message['content']\n",
    "    \n",
    "    merged.append({'role': current_role, 'content': current_content})\n",
    "    return merged\n",
    "\n",
    "\n",
    "def transform_to_new_format(original_data):\n",
    "    transformed_data = []\n",
    "    for conversation in original_data:\n",
    "        processed_conversation = preprocess_conversation(conversation)\n",
    "        if processed_conversation:\n",
    "            transformed_data.append(processed_conversation)\n",
    "    return transformed_data\n",
    "\n",
    "result = transform_to_new_format(original_jsonl_data)\n",
    "with open(\"./train_dataset.jsonl\", \"w\", encoding=\"utf-8\") as file:\n",
    "    for conversation in result:\n",
    "        json_obj = {\"messages\": conversation}\n",
    "        json.dump(json_obj, file, ensure_ascii=False)\n",
    "        file.write(\"\\n\") \n",
    "dataset = load_dataset(\"json\", data_files=\"./train_dataset.jsonl\")\n",
    "dataset"
   ]
  },
  {
   "cell_type": "code",
   "execution_count": 7,
   "id": "ba196d6c-0019-47a7-8518-1b6646dec00f",
   "metadata": {},
   "outputs": [
    {
     "data": {
      "text/plain": [
       "{'messages': [{'role': 'user', 'content': '내가 약간 중2병 같은 걸 증상을 보이고 있어요.'},\n",
       "  {'role': 'assistant', 'content': '중2병 증상이라니, 어떤 증상이신 건가요?'},\n",
       "  {'role': 'user',\n",
       "   'content': '그러니까 공부하기 싫어하고, 공격적이고, 좀 무례하게 말하고 싶은 게 많아져서 그런 거예요.'},\n",
       "  {'role': 'assistant',\n",
       "   'content': '그런 증상이 있으니까 힘드시겠죠. 중2병 같은 것이라고 생각하시는 이유는 무엇인가요?'},\n",
       "  {'role': 'user', 'content': '막 공부 안하고 이것저것 들먹이고 하고 싶은 게 너무 많아서 그런 거 같아요.'},\n",
       "  {'role': 'assistant',\n",
       "   'content': '그런 것도 어쩔 수 없이 찾아오는 시기가 있으니까 무리하지 않도록 해야겠죠. 대학교를 가면서 나아질 것 같았는데, 오히려 더 심해진 것 같다고 하셨죠. 그 원인이 무엇인가요?'},\n",
       "  {'role': 'user', 'content': '그걸 제가 잘 몰라서 그런 것 같아요. 그냥 더 심해졌다고 느꼈어요.'},\n",
       "  {'role': 'assistant', 'content': '대학교 생활이 신나고 재밌으신 건 어떤 점이 있나요?'},\n",
       "  {'role': 'user',\n",
       "   'content': '학과가 정말 좋아서 즐겁게 수업을 듣고 있어요. 학우들도 좋고 괜찮은 친구들도 많이 만나서 그런 것 같아요.'},\n",
       "  {'role': 'assistant',\n",
       "   'content': '즐거운 일도 많이 있으면서 고민거리도 있는 것 같군요. 가사나 소설을 쓰시면서 마음을 풀기도 하신다고 하셨는데, 언제부터 그 습관이 생겨난 건가요?'},\n",
       "  {'role': 'user',\n",
       "   'content': '좋은 질문이에요. 좀 자세히 말씀드릴게요. 학교에서 어려운 일이 있었는데, 그 때부터 가사나 소설 같은 것들을 쓰면서 마음을 풀게 되었어요. 그리고 이런 걸 쓰면서 나름 살아갈 때도 있는 것 같고, 그러다 보니까 늘어나는 것 같아요.'},\n",
       "  {'role': 'assistant',\n",
       "   'content': '어려운 일이 있으셨군요. 그 때부터 쓰시면서 나아지는 기분이 드셨다고 하셨는데, 현재에도 그런 기분이 드시나요?'},\n",
       "  {'role': 'user',\n",
       "   'content': '좀 그래요. 이제는 어느 정도 극복했다고 생각은 하지만, 가사나 소설을 쓰면서 마음이 편안해지는 느낌이 있어서 써왔어요.'},\n",
       "  {'role': 'assistant',\n",
       "   'content': '가사나 소설 같은 것들이 나쁜 것은 아니라고 하셨죠. 하지만, 과도한 습관으로 만들어지면 나중에 문제가 생길 수도 있습니다. 이러한 습관을 줄이고, 보다 효율적으로 자아확인에 도움이 될 수 있도록 일정한 패턴과 기록 방식으로 습관화하는 것이 좋습니다. 예를 들어, 가사나 소설을 쓸 때 일주일에 몇 번, 어느 시간대에 쓰는 것이 효과적인지에 대해 스스로에게 질문해보고, 그에 따른 습관을 만들어보는 것도 좋은 방법입니다.'},\n",
       "  {'role': 'user', 'content': '그럼, 가사나 소설 같은 것들을 과도하게 하면 나중에 문제가 생긴다는 건가요?'},\n",
       "  {'role': 'assistant',\n",
       "   'content': '그렇습니다. 이러한 습관이 과도하게 되면 자신에게 과부하를 주고 심리적인 문제를 일으킬 수 있습니다. 때로는, 삶의 태도를 바꾸는 것도 중요합니다. 스스로를 사랑하고 용서하며 자기자신에게 긍정적인 자아이미지를 가지는 것도 중요합니다. 이러한 자아이미지가 긍정적일수록 스트레스를 받아도 잘 해결할 수 있고, 자기자신을 존중하고 이해하는 능력이 생깁니다.'},\n",
       "  {'role': 'user', 'content': '그래도 좀 걱정이 되네요.'},\n",
       "  {'role': 'assistant',\n",
       "   'content': '걱정은 당연한 것이죠. 그러나 지나치게 걱정하는 것은 오히려 스트레스를 더 받게 됩니다. 지금 이 곳에 오셔서 이야기를 나누어 봤을 때, 내담자님께서 가진 문제가 그렇게 심각한 것은 아닌 것 같습니다. 하지만, 무엇보다도, 내담자님이 존중하고 사랑하는 마음으로 자신을 바라보며, 나름의 방식으로 살아가는 것이 중요합니다. 무언가를 끼워 맞추어 주려 하지 마시고, 스스로 찾아낼 수 있는 길을 찾아보세요.'},\n",
       "  {'role': 'user', 'content': '그 말씀대로 할게요.'},\n",
       "  {'role': 'assistant',\n",
       "   'content': '그렇게 하셔서 조금이나마 좋아지시길 바라겠습니다. 이후에도 힘든 마음이 계속되면 언제든지 저를 찾아주세요.'}]}"
      ]
     },
     "execution_count": 7,
     "metadata": {},
     "output_type": "execute_result"
    }
   ],
   "source": [
    "dataset['train'][0]"
   ]
  },
  {
   "cell_type": "code",
   "execution_count": null,
   "id": "473f6552-78f3-41e8-945c-ae912694a8eb",
   "metadata": {},
   "outputs": [],
   "source": []
  }
 ],
 "metadata": {
  "kernelspec": {
   "display_name": "Python 3 (ipykernel)",
   "language": "python",
   "name": "python3"
  },
  "language_info": {
   "codemirror_mode": {
    "name": "ipython",
    "version": 3
   },
   "file_extension": ".py",
   "mimetype": "text/x-python",
   "name": "python",
   "nbconvert_exporter": "python",
   "pygments_lexer": "ipython3",
   "version": "3.11.10"
  }
 },
 "nbformat": 4,
 "nbformat_minor": 5
}
